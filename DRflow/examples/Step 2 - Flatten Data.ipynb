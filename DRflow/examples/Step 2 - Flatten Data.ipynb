{
 "cells": [
  {
   "cell_type": "code",
   "execution_count": 5,
   "metadata": {},
   "outputs": [],
   "source": [
    "import os\n",
    "from imageprocessing.flatten import flatten_images, keep_top_k_classes"
   ]
  },
  {
   "cell_type": "code",
   "execution_count": 2,
   "metadata": {},
   "outputs": [
    {
     "name": "stdout",
     "output_type": "stream",
     "text": [
      "diningtable_1798\n",
      "horse_7294\n",
      "     0    1    2    3    4  ...  4797  4798  4799          filename       labels\n",
      "0  164  182  188  164  182  ...   174   189   192  diningtable_1798  diningtable\n",
      "0  189  195  164  198  199  ...     3    19    31        horse_7294        horse\n",
      "\n",
      "[2 rows x 4802 columns]\n",
      "----Finished: data/paintings/thumbnails/size200/----\n"
     ]
    },
    {
     "data": {
      "text/plain": [
       "0"
      ]
     },
     "execution_count": 2,
     "metadata": {},
     "output_type": "execute_result"
    }
   ],
   "source": [
    "# Example to process one dataset\n",
    "flatten_images(input_folder = 'data/paintings/thumbnails/size200/',\n",
    "               output_folder = 'data/paintings/flatfiles/', \n",
    "               filename = 'paintings_flat200')"
   ]
  },
  {
   "cell_type": "code",
   "execution_count": 7,
   "metadata": {},
   "outputs": [
    {
     "name": "stdout",
     "output_type": "stream",
     "text": [
      "Before: (8530, 4802)\n",
      "data/paintings/flatfiles/paintings_flat200.csv \n",
      " ---- \n",
      "               labels  filename\n",
      "33              boat      1928\n",
      "83             horse      1171\n",
      "77               dog       763\n",
      "52             chair       750\n",
      "72       diningtable       712\n",
      "86             sheep       590\n",
      "8               bird       583\n",
      "61               cow       455\n",
      "53  chairdiningtable       365\n",
      "88             train       287\n",
      "After: (7790, 4802)\n",
      "Finished: data/paintings/flatfiles/paintings_flat200.csv\n"
     ]
    },
    {
     "data": {
      "text/plain": [
       "1"
      ]
     },
     "execution_count": 7,
     "metadata": {},
     "output_type": "execute_result"
    }
   ],
   "source": [
    "# Example to keep only k classes of one dataset\n",
    "\n",
    "keep_top_k_classes(filename='data/paintings/flatfiles/paintings_flat200.csv', c=10)\n"
   ]
  },
  {
   "cell_type": "code",
   "execution_count": 11,
   "metadata": {
    "scrolled": false
   },
   "outputs": [
    {
     "name": "stdout",
     "output_type": "stream",
     "text": [
      "MNIST\n",
      "\u001b[2m\u001b[36m(pid=24570)\u001b[0m 4_6585\n",
      "\u001b[2m\u001b[36m(pid=24570)\u001b[0m 2_6906\n",
      "\u001b[2m\u001b[36m(pid=24570)\u001b[0m not an image: .DS_Store\n",
      "\u001b[2m\u001b[36m(pid=24570)\u001b[0m      0    1    2    3    4    5    6  ...  779  780  781  782  783  filename  labels\n",
      "\u001b[2m\u001b[36m(pid=24570)\u001b[0m 0  255  255  255  255  255  255  255  ...  255  255  255  255  255    4_6585       4\n",
      "\u001b[2m\u001b[36m(pid=24570)\u001b[0m 0  255  255  255  255  255  255  255  ...  255  255  255  255  255    2_6906       2\n",
      "\u001b[2m\u001b[36m(pid=24570)\u001b[0m \n",
      "\u001b[2m\u001b[36m(pid=24570)\u001b[0m [2 rows x 786 columns]\n",
      "\u001b[2m\u001b[36m(pid=24570)\u001b[0m ----Finished: MNIST/thumbnails/----\n"
     ]
    }
   ],
   "source": [
    "# Example to process all data you have in the correct format\n",
    "# comment in the ray code before trying this\n",
    "\n",
    "files = ['fashionmnist','coil-100','paris_buildings', 'pets', \n",
    "         'oxford_buildings','dogs','cinic10', 'caltech',\n",
    "         'flowers','paintings']\n",
    "\n",
    "for s in [200]:\n",
    "    for f in files:\n",
    "        input_folder = 'data/{}/thumbnails/size{}/'\n",
    "        output_folder = 'data/{}/flatfiles/'\n",
    "        filename = '{}_flat{}'\n",
    "    \n",
    "    flatten_images(input_folder,output_folder, filename)"
   ]
  },
  {
   "cell_type": "code",
   "execution_count": null,
   "metadata": {},
   "outputs": [],
   "source": []
  }
 ],
 "metadata": {
  "kernelspec": {
   "display_name": "Python 3",
   "language": "python",
   "name": "python3"
  },
  "language_info": {
   "codemirror_mode": {
    "name": "ipython",
    "version": 3
   },
   "file_extension": ".py",
   "mimetype": "text/x-python",
   "name": "python",
   "nbconvert_exporter": "python",
   "pygments_lexer": "ipython3",
   "version": "3.7.4"
  }
 },
 "nbformat": 4,
 "nbformat_minor": 2
}
