{
 "cells": [
  {
   "cell_type": "code",
   "execution_count": 1,
   "metadata": {},
   "outputs": [],
   "source": [
    "%load_ext autoreload\n",
    "%autoreload 2"
   ]
  },
  {
   "cell_type": "code",
   "execution_count": 2,
   "metadata": {},
   "outputs": [],
   "source": [
    "import os\n",
    "import seaborn as sns\n",
    "import pandas as pd\n",
    "\n",
    "from dr.plot import plot_projection\n",
    "from sklearn.model_selection import train_test_split\n",
    "from sklearn import preprocessing"
   ]
  },
  {
   "cell_type": "code",
   "execution_count": 11,
   "metadata": {},
   "outputs": [],
   "source": []
  },
  {
   "cell_type": "code",
   "execution_count": 13,
   "metadata": {},
   "outputs": [
    {
     "name": "stdout",
     "output_type": "stream",
     "text": [
      "8\n",
      "paintings_PCA.csv\n",
      "(7790, 4)\n",
      "ss\n",
      "data/paintings/dr_data/paintings_PCA.csv\n",
      "data/paintings/dr_figures/paintings_PCA.pdf\n"
     ]
    }
   ],
   "source": [
    "name = 'paintings'\n",
    "input_folder = 'data/{}/dr_data/'.format(name)\n",
    "output_folder = 'data/{}/dr_figures/'.format(name)\n",
    "thumbnail_folder = 'data/{}/thumbnails/size200/'.format(name)\n",
    "\n",
    "\n",
    "plot_all_dr_files(input_folder, output_folder, thumbnail_folder)   "
   ]
  },
  {
   "cell_type": "code",
   "execution_count": 32,
   "metadata": {
    "scrolled": true
   },
   "outputs": [
    {
     "name": "stdout",
     "output_type": "stream",
     "text": [
      "fashionmnist\n",
      "coil-100\n",
      "paris_buildings\n",
      "pets\n",
      "oxford_buildings\n",
      "dogs\n",
      "cinic10\n",
      "caltech\n",
      "flowers\n",
      "paintings\n"
     ]
    }
   ],
   "source": [
    "files = ['fashionmnist','coil-100','paris_buildings', 'pets', \n",
    "         'oxford_buildings','dogs','cinic10', 'caltech',\n",
    "         'flowers','paintings']\n",
    "\n",
    "\n",
    "\n",
    "\n",
    "\n",
    "cp = sns.color_palette(\"Paired\")\n",
    "\n",
    "for f in files:\n",
    "    print(f)\n",
    "    input_path = 'data/{}/dr_data/'\n",
    "    \n",
    "    try:\n",
    "        ddf = pd.read_csv(input_path + 'PCA.csv')\n",
    "    except:\n",
    "        continue\n",
    "        \n",
    "    if len(ddf)>400:\n",
    "        _, ddf = train_test_split(ddf, test_size=400, stratify=ddf['labels'])\n",
    "    \n",
    "    idx = ddf.index\n",
    "    \n",
    "    paths = list(f+'/thumbnails200/'+ ddf['filename']+'.png')\n",
    "    le = preprocessing.LabelEncoder()\n",
    "    labels = le.fit_transform(ddf['labels'])\n",
    "\n",
    "    \n",
    "    \n",
    "    for csv in os.listdir(orig_path):\n",
    "        if csv.endswith('.csv'):\n",
    "            if os.path.exists(f+'/figures200/img_'+csv.split('.csv')[0]+'.pdf'):\n",
    "                #print('.')\n",
    "                continue \n",
    "            #plot_projection(f, cp, csv, labels, paths,idx)\n",
    "                \n",
    "            \n",
    "            \n",
    "\n",
    "            \n",
    "            "
   ]
  },
  {
   "cell_type": "code",
   "execution_count": null,
   "metadata": {},
   "outputs": [],
   "source": []
  }
 ],
 "metadata": {
  "kernelspec": {
   "display_name": "Python 3",
   "language": "python",
   "name": "python3"
  },
  "language_info": {
   "codemirror_mode": {
    "name": "ipython",
    "version": 3
   },
   "file_extension": ".py",
   "mimetype": "text/x-python",
   "name": "python",
   "nbconvert_exporter": "python",
   "pygments_lexer": "ipython3",
   "version": "3.7.4"
  }
 },
 "nbformat": 4,
 "nbformat_minor": 2
}
