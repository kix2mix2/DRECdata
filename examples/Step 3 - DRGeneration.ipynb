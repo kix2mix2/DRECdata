{
 "cells": [
  {
   "cell_type": "code",
   "execution_count": 1,
   "metadata": {},
   "outputs": [],
   "source": [
    "%load_ext autoreload\n",
    "%autoreload 2"
   ]
  },
  {
   "cell_type": "code",
   "execution_count": 2,
   "metadata": {},
   "outputs": [],
   "source": [
    "import os\n",
    "import numpy as np\n",
    "import pandas as pd\n",
    "import ray \n",
    "\n",
    "from dr.dr import apply_dr"
   ]
  },
  {
   "cell_type": "code",
   "execution_count": 11,
   "metadata": {},
   "outputs": [
    {
     "name": "stderr",
     "output_type": "stream",
     "text": [
      "2020-04-16 19:09:42,522\tINFO resource_spec.py:216 -- Starting Ray with 9.28 GiB memory available for workers and up to 4.66 GiB for objects. You can adjust these settings with ray.init(memory=<bytes>, object_store_memory=<bytes>).\n"
     ]
    },
    {
     "data": {
      "text/plain": [
       "{'node_ip_address': '192.168.103.29',\n",
       " 'redis_address': '192.168.103.29:56397',\n",
       " 'object_store_address': '/tmp/ray/session_2020-04-16_19-09-42_502157_25499/sockets/plasma_store',\n",
       " 'raylet_socket_name': '/tmp/ray/session_2020-04-16_19-09-42_502157_25499/sockets/raylet',\n",
       " 'webui_url': None,\n",
       " 'session_dir': '/tmp/ray/session_2020-04-16_19-09-42_502157_25499'}"
      ]
     },
     "execution_count": 11,
     "metadata": {},
     "output_type": "execute_result"
    }
   ],
   "source": [
    "ray.shutdown()\n",
    "ray.init(memory=10e+9, object_store_memory=5e+9)\n"
   ]
  },
  {
   "cell_type": "code",
   "execution_count": 8,
   "metadata": {},
   "outputs": [
    {
     "name": "stdout",
     "output_type": "stream",
     "text": [
      "---------Startings: paintings - paintings_PCA-----------\n",
      "---------Finished: paintingspaintings_PCA-----------\n"
     ]
    }
   ],
   "source": [
    "f = 'paintings'\n",
    "size=200\n",
    "c = 10\n",
    "\n",
    "input_file = 'data/{}/flatfiles/{}_flat{}_{}classes.csv'.format(f,f,size,c)\n",
    "output_folder = 'data/{}/dr_data/'.format(f)\n",
    "dr_name = 'PCA'\n",
    "\n",
    "\n",
    "\n",
    "dr_data = apply_dr(input_file =input_file,\n",
    "                  output_folder=output_folder, \n",
    "                  dataset_name = f, \n",
    "                  dr_name=dr_name)"
   ]
  },
  {
   "cell_type": "code",
   "execution_count": 7,
   "metadata": {
    "scrolled": false
   },
   "outputs": [
    {
     "name": "stdout",
     "output_type": "stream",
     "text": [
      "['paintings']\n",
      "PCA\n"
     ]
    },
    {
     "ename": "Exception",
     "evalue": "Remote functions cannot be called directly. Instead of running 'dr.dr.apply_dr()', try 'dr.dr.apply_dr.remote()'.",
     "output_type": "error",
     "traceback": [
      "\u001b[0;31m---------------------------------------------------------------------------\u001b[0m",
      "\u001b[0;31mException\u001b[0m                                 Traceback (most recent call last)",
      "\u001b[0;32m<ipython-input-7-6bcca53b2cc5>\u001b[0m in \u001b[0;36m<module>\u001b[0;34m\u001b[0m\n\u001b[1;32m     22\u001b[0m                                       \u001b[0moutput_folder\u001b[0m\u001b[0;34m=\u001b[0m\u001b[0moutput_folder\u001b[0m\u001b[0;34m,\u001b[0m\u001b[0;34m\u001b[0m\u001b[0;34m\u001b[0m\u001b[0m\n\u001b[1;32m     23\u001b[0m                                       \u001b[0mdataset_name\u001b[0m \u001b[0;34m=\u001b[0m \u001b[0mf\u001b[0m\u001b[0;34m,\u001b[0m\u001b[0;34m\u001b[0m\u001b[0;34m\u001b[0m\u001b[0m\n\u001b[0;32m---> 24\u001b[0;31m                                       dr_name=dr_name)\n\u001b[0m\u001b[1;32m     25\u001b[0m \u001b[0;34m\u001b[0m\u001b[0m\n\u001b[1;32m     26\u001b[0m         \u001b[0;32melif\u001b[0m \u001b[0mdr_name\u001b[0m \u001b[0;34m==\u001b[0m \u001b[0;34m'TSNE'\u001b[0m\u001b[0;34m:\u001b[0m\u001b[0;34m\u001b[0m\u001b[0;34m\u001b[0m\u001b[0m\n",
      "\u001b[0;32m~/miniconda3/envs/SepMe/lib/python3.7/site-packages/ray/remote_function.py\u001b[0m in \u001b[0;36m__call__\u001b[0;34m(self, *args, **kwargs)\u001b[0m\n\u001b[1;32m    101\u001b[0m         raise Exception(\"Remote functions cannot be called directly. Instead \"\n\u001b[1;32m    102\u001b[0m                         \"of running '{}()', try '{}.remote()'.\".format(\n\u001b[0;32m--> 103\u001b[0;31m                             self._function_name, self._function_name))\n\u001b[0m\u001b[1;32m    104\u001b[0m \u001b[0;34m\u001b[0m\u001b[0m\n\u001b[1;32m    105\u001b[0m     def _submit(self,\n",
      "\u001b[0;31mException\u001b[0m: Remote functions cannot be called directly. Instead of running 'dr.dr.apply_dr()', try 'dr.dr.apply_dr.remote()'."
     ]
    }
   ],
   "source": [
    "# apply all these drs\n",
    "\n",
    "files = ['coil-100','caltech','paris_buildings', 'pets', 'oxford_buildings','dogs', 'flowers','paintings']\n",
    "files = ['paintings']\n",
    "\n",
    "\n",
    "print(files)\n",
    "size = 200\n",
    "\n",
    "for f in files:\n",
    "    input_file = 'data/{}/flatfiles/{}_flat{}.csv'.format(f,f,size)\n",
    "    output_folder = 'data/{}/dr_data/'.format(f)\n",
    "    \n",
    "    if not os.path.exists(output_folder):\n",
    "        os.makedirs(output_folder)\n",
    "    \n",
    "    for dr_name in ['PCA','TSNE', 'ISM', 'UMAP']:\n",
    "        print(dr_name)\n",
    "        \n",
    "        if dr_name in ['PCA','GRP']:\n",
    "            dr_data = apply_dr(input_file =input_file,\n",
    "                                      output_folder=output_folder, \n",
    "                                      dataset_name = f, \n",
    "                                      dr_name=dr_name)\n",
    "            \n",
    "        elif dr_name == 'TSNE':\n",
    "            for p in [5,10,30,50,150,100]:\n",
    "                #print(p)\n",
    "                dr_data = apply_dr.remote(input_file =input_file,\n",
    "                                      output_folder=output_folder, \n",
    "                                      dataset_name = f, \n",
    "                                      dr_name=dr_name,\n",
    "                                      perplexity=p)   \n",
    "        \n",
    "        else:\n",
    "            for n in [2,3,5,7,10,15]:\n",
    "                #print(n)\n",
    "                if dr_name == 'UMAP':\n",
    "                    for d in [0.1, 0.5, 0.8]:\n",
    "                        dr_data = apply_dr.remote(input_file =input_file,\n",
    "                                      output_folder=output_folder, \n",
    "                                      dataset_name = f, \n",
    "                                      dr_name=dr_name, n_neighbors=n, min_dist=d)\n",
    "                elif dr_name in ['LLE','SE']:\n",
    "                    if n == 7:\n",
    "                        dr_data = apply_dr.remote(input_file =input_file,\n",
    "                                      output_folder=output_folder, \n",
    "                                      dataset_name = f,  n_neighbors=n)\n",
    "                    else: \n",
    "                        pass\n",
    "                    \n",
    "                else:\n",
    "                    dr_data = apply_dr.remote(dinput_file =input_file,\n",
    "                                      output_folder=output_folder, \n",
    "                                      dataset_name = f, n_neighbors=n)\n"
   ]
  },
  {
   "cell_type": "code",
   "execution_count": null,
   "metadata": {},
   "outputs": [],
   "source": []
  },
  {
   "cell_type": "code",
   "execution_count": null,
   "metadata": {},
   "outputs": [],
   "source": []
  }
 ],
 "metadata": {
  "kernelspec": {
   "display_name": "Python 3",
   "language": "python",
   "name": "python3"
  },
  "language_info": {
   "codemirror_mode": {
    "name": "ipython",
    "version": 3
   },
   "file_extension": ".py",
   "mimetype": "text/x-python",
   "name": "python",
   "nbconvert_exporter": "python",
   "pygments_lexer": "ipython3",
   "version": "3.7.4"
  }
 },
 "nbformat": 4,
 "nbformat_minor": 2
}
